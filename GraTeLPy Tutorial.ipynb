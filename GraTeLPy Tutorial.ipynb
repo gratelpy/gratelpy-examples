{
 "metadata": {
  "name": "GraTeLPy Tutorial"
 },
 "nbformat": 3,
 "nbformat_minor": 0,
 "worksheets": [
  {
   "cells": [
    {
     "cell_type": "heading",
     "level": 1,
     "metadata": {},
     "source": [
      "GraTeLPy Tutorial"
     ]
    },
    {
     "cell_type": "markdown",
     "metadata": {},
     "source": [
      "This IPython Notebook demonstrates basic usage of GraTeLPy out of Python. This allows you to write scripts in Python that perform your analysis programmatically.\n",
      "\n",
      "Another mode of using GraTeLPy is through the provided bash scripts described here [https://github.com/gratelpy/gratelpy](https://github.com/gratelpy/gratelpy)."
     ]
    },
    {
     "cell_type": "markdown",
     "metadata": {},
     "source": [
      "Make certain that GraTeLPy is installed properly:\n",
      "\n",
      "    $ pip install gratelpy\n",
      "\n",
      "If you do not have root access on your computer then install GraTeLPy to your home directory:\n",
      "\n",
      "    $ pip install gratelpy --user\n",
      "\n",
      "Start Python or IPython and import GraTeLPy"
     ]
    },
    {
     "cell_type": "code",
     "collapsed": false,
     "input": [
      "import gratelpy"
     ],
     "language": "python",
     "metadata": {},
     "outputs": [],
     "prompt_number": 1
    },
    {
     "cell_type": "markdown",
     "metadata": {},
     "source": [
      "Check the version of your GraTeLPy installation."
     ]
    },
    {
     "cell_type": "code",
     "collapsed": false,
     "input": [
      "gratelpy.get_version()"
     ],
     "language": "python",
     "metadata": {},
     "outputs": [
      {
       "output_type": "pyout",
       "prompt_number": 2,
       "text": [
        "'0.1.0'"
       ]
      }
     ],
     "prompt_number": 2
    },
    {
     "cell_type": "markdown",
     "metadata": {},
     "source": [
      "In a text editor, define a chemical reaction network.\n",
      "\n",
      "As an example, let us look at a reversible substrate inhibition mechanism that was discussed in [1].\n",
      "\n",
      "    [A1] -> ; k1\n",
      "     -> [A1]; k2\n",
      "    [A1] + [A2] -> [A3] ; k3\n",
      "    [A3] -> [A2] ; k4\n",
      "    [A1] + [A3] -> [A4] ; k5\n",
      "    [A4] -> [A1] + [A3] ; k6\n",
      "\n",
      "Notice that species names are denoted by **[** and **]** and the above mechanism has *4 species* and *6 reactions*.\n",
      "\n",
      "Suppose the above mechanism is saved in your current directory as *mechanism.txt*.\n",
      "\n",
      "Load the mechanism into GraTeLPy and create the stoichiometric matrixes of the mechanism."
     ]
    },
    {
     "cell_type": "code",
     "collapsed": false,
     "input": [
      "from gratelpy.parse_mechanism import get_network_from_mechanism\n",
      "alpha, beta, species, constants, _, _ = get_network_from_mechanism('mechanism.txt', 4)"
     ],
     "language": "python",
     "metadata": {},
     "outputs": [],
     "prompt_number": 3
    },
    {
     "cell_type": "markdown",
     "metadata": {},
     "source": [
      "This function parses the provided mechanism and returns matrices *alpha* and *beta* which are the reactant and product stoichiometric matrices respecitvely.\n",
      "\n",
      "It further returns dictionaries of the detected species and reaction rate constants."
     ]
    },
    {
     "cell_type": "code",
     "collapsed": false,
     "input": [
      "alpha"
     ],
     "language": "python",
     "metadata": {},
     "outputs": [
      {
       "output_type": "pyout",
       "prompt_number": 4,
       "text": [
        "array([[1, 0, 1, 0, 1, 0],\n",
        "       [0, 0, 1, 0, 0, 0],\n",
        "       [0, 0, 0, 1, 1, 0],\n",
        "       [0, 0, 0, 0, 0, 1]])"
       ]
      }
     ],
     "prompt_number": 4
    },
    {
     "cell_type": "code",
     "collapsed": false,
     "input": [
      "beta"
     ],
     "language": "python",
     "metadata": {},
     "outputs": [
      {
       "output_type": "pyout",
       "prompt_number": 5,
       "text": [
        "array([[0, 1, 0, 0, 0, 1],\n",
        "       [0, 0, 0, 1, 0, 0],\n",
        "       [0, 0, 1, 0, 0, 1],\n",
        "       [0, 0, 0, 0, 1, 0]])"
       ]
      }
     ],
     "prompt_number": 5
    },
    {
     "cell_type": "code",
     "collapsed": false,
     "input": [
      "species"
     ],
     "language": "python",
     "metadata": {},
     "outputs": [
      {
       "output_type": "pyout",
       "prompt_number": 6,
       "text": [
        "{'[A1]': 0, '[A2]': 1, '[A3]': 2, '[A4]': 3}"
       ]
      }
     ],
     "prompt_number": 6
    },
    {
     "cell_type": "code",
     "collapsed": false,
     "input": [
      "constants"
     ],
     "language": "python",
     "metadata": {},
     "outputs": [
      {
       "output_type": "pyout",
       "prompt_number": 7,
       "text": [
        "{'k1': 0, 'k2': 1, 'k3': 2, 'k4': 3, 'k5': 4, 'k6': 5}"
       ]
      }
     ],
     "prompt_number": 7
    },
    {
     "cell_type": "heading",
     "level": 2,
     "metadata": {},
     "source": [
      "References"
     ]
    },
    {
     "cell_type": "markdown",
     "metadata": {},
     "source": [
      "**[1]** Maya Mincheva and Marc R. Roussel (2007): Graph-theoretic methods for the analysis of chemical and biochemical networks. I. Multistability and oscillations in ordinary differential equation models. Journal of Mathematical Biology. Volume 55, Issue 1, pp 61-86. [dx.doi.org/10.1007/s00285-007-0099-1](http://dx.doi.org/10.1007/s00285-007-0099-1)"
     ]
    }
   ],
   "metadata": {}
  }
 ]
}